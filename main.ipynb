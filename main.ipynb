{
 "cells": [
  {
   "attachments": {},
   "cell_type": "markdown",
   "metadata": {},
   "source": [
    "# Python Simple Trading Algorithm assignment\n",
    "*this was working last time i checked it*"
   ]
  },
  {
   "attachments": {},
   "cell_type": "markdown",
   "metadata": {},
   "source": [
    "> import files"
   ]
  },
  {
   "cell_type": "code",
   "execution_count": 7,
   "metadata": {},
   "outputs": [],
   "source": [
    "from alpha_vantage.timeseries import TimeSeries\n",
    "# from pyalgotrading import plot_candles\n",
    "import pandas\n",
    "import copy"
   ]
  },
  {
   "attachments": {},
   "cell_type": "markdown",
   "metadata": {},
   "source": [
    "> Script class"
   ]
  },
  {
   "cell_type": "code",
   "execution_count": 8,
   "metadata": {},
   "outputs": [],
   "source": [
    "\n",
    "class ScriptData:\n",
    "    def __init__(self):\n",
    "        self.key = TimeSeries(key=\"Y455ZZ06T6P3LRSW\", output_format = 'pandas', indexing_type='integer')\n",
    "        self.df = {}\n",
    "        pass\n",
    "\n",
    "    def __getitem__(self,script):\n",
    "        if script in self.df:\n",
    "            return self.df[script]\n",
    "        else:\n",
    "            return \"not found\"\n",
    "\n",
    "    def fetch_intraday_data(self,script):\n",
    "        self.df[script], mata_data = self.key.get_intraday(script)\n",
    "        pass\n",
    "    def convert_intray_data(self,script):\n",
    "        self.df[script].rename(columns={\"index\":\"timestamp\", \"1. open\": \"open\",\"2. high\":\"high\",\"3. low\":\"low\",\"4. close\":\"close\",\"5. volume\":\"volume\"}, inplace=True)\n",
    "        pass"
   ]
  },
  {
   "attachments": {},
   "cell_type": "markdown",
   "metadata": {},
   "source": [
    "> Indicator function"
   ]
  },
  {
   "cell_type": "code",
   "execution_count": 9,
   "metadata": {},
   "outputs": [],
   "source": [
    "def indicator1(df,timeperiod:int):\n",
    "    df.drop(columns=[\"open\",\"high\",\"low\",\"volume\"],inplace=True)\n",
    "    df.rename(columns={\"close\":\"indicator\"},inplace=True)\n",
    "    df_new = copy.copy(df)\n",
    "\n",
    "    for i in range(0,len(df[\"timestamp\"])):\n",
    "        if i<= timeperiod:\n",
    "            df_new.at[i,\"indicator\"] = \"NAN\"\n",
    "        else:\n",
    "            try:\n",
    "                df_new.at[i,\"indicator\"] =round( sum(df[\"indicator\"].iloc[i-timeperiod : i])/timeperiod , 2)\n",
    "            except:\n",
    "                print(i,type(i))\n",
    "    return df_new"
   ]
  },
  {
   "attachments": {},
   "cell_type": "markdown",
   "metadata": {},
   "source": [
    "> `optional`  test code to run functions completed rn"
   ]
  },
  {
   "cell_type": "code",
   "execution_count": 10,
   "metadata": {},
   "outputs": [],
   "source": [
    "# obj = ScriptData()\n",
    "# obj.fetch_intraday_data(\"GOOGL\")\n",
    "# obj.convert_intray_data(\"GOOGL\")\n",
    "# print(obj[\"GOOGL\"][:15])\n",
    "# print(indicator1(obj['GOOGL'],5)[:15])"
   ]
  },
  {
   "attachments": {},
   "cell_type": "markdown",
   "metadata": {},
   "source": [
    "> Strategy class `with fallback and debuging code`"
   ]
  },
  {
   "cell_type": "code",
   "execution_count": 11,
   "metadata": {},
   "outputs": [],
   "source": [
    "class Strategy:\n",
    "    def __init__(self,script):\n",
    "        self.id = script\n",
    "        self.data = None\n",
    "        self.predictor = None\n",
    "        self.signal = None\n",
    "        self.timeperiod = 5\n",
    "\n",
    "    def get_script_data(self):\n",
    "        data_obj = ScriptData()\n",
    "        data_obj.fetch_intraday_data(self.id)\n",
    "        data_obj.convert_intray_data(self.id)\n",
    "        self.data = data_obj[self.id]\n",
    "        self.predictor = indicator1(copy.copy(self.data),self.timeperiod)\n",
    "\n",
    "        self.signal = copy.copy(self.predictor)\n",
    "        self.signal.rename(columns={\"indicator\":\"signal\"},inplace=True)\n",
    "\n",
    "        for i in range(self.timeperiod+1,len( self.signal[\"timestamp\"])-1):\n",
    "            \n",
    "            try:\n",
    "                # print(self.data[\"close\"].iloc[i+1])\n",
    "                # print(self.data[\"close\"].iloc[i-1])\n",
    "                # print(self.data[\"close\"].iloc[i])\n",
    "                # print(self.predictor[\"indicator\"].iloc[i])\n",
    "\n",
    "                if (self.data[\"close\"].iloc[i+1] < self.predictor[\"indicator\"].iloc[i] or self.data[\"close\"].iloc[i-1] > self.predictor[\"indicator\"].iloc[i]) and self.data[\"close\"].iloc[i] == self.predictor[\"indicator\"].iloc[i]:\n",
    "                    self.signal.at[i,\"signal\"] = \"BUY\"\n",
    "                    # print(\"buy\")\n",
    "\n",
    "                elif (self.data[\"close\"].iloc[i+1] > self.predictor[\"indicator\"].iloc[i] or self.data[\"close\"].iloc[i-1] < self.predictor[\"indicator\"].iloc[i]) and self.data[\"close\"].iloc[i] == self.predictor[\"indicator\"].iloc[i]:\n",
    "                    self.signal.at[i,\"signal\"] = \"SELL\"\n",
    "                    # print(\"SELL\")\n",
    "\n",
    "                elif self.data[\"close\"].iloc[i] != self.predictor[\"indicator\"].iloc[i]:\n",
    "                    self.signal.at[i,\"signal\"] = \"NO_SIGNAL\"\n",
    "\n",
    "                else:\n",
    "                    print(\"did not work\")      \n",
    "            except:\n",
    "                print(i)\n",
    "    def get_signals(self):\n",
    "        return self.signal\n"
   ]
  },
  {
   "attachments": {},
   "cell_type": "markdown",
   "metadata": {},
   "source": [
    "> Finaly code to test all this"
   ]
  },
  {
   "cell_type": "code",
   "execution_count": 12,
   "metadata": {},
   "outputs": [
    {
     "name": "stdout",
     "output_type": "stream",
     "text": [
      "                 timestamp     signal\n",
      "index                                \n",
      "0      2023-02-14 20:00:00        NAN\n",
      "1      2023-02-14 19:45:00        NAN\n",
      "2      2023-02-14 19:30:00        NAN\n",
      "3      2023-02-14 19:15:00        NAN\n",
      "4      2023-02-14 19:00:00        NAN\n",
      "...                    ...        ...\n",
      "95     2023-02-13 12:15:00  NO_SIGNAL\n",
      "96     2023-02-13 12:00:00  NO_SIGNAL\n",
      "97     2023-02-13 11:45:00  NO_SIGNAL\n",
      "98     2023-02-13 11:30:00  NO_SIGNAL\n",
      "99     2023-02-13 11:15:00     219.03\n",
      "\n",
      "[100 rows x 2 columns]\n"
     ]
    }
   ],
   "source": [
    "strategy = Strategy(\"NVDA\")\n",
    "strategy.get_script_data()\n",
    "print(strategy.get_signals())\n",
    "# df = strategy.get_signals()\n",
    "# plot_candles(df)"
   ]
  }
 ],
 "metadata": {
  "kernelspec": {
   "display_name": "Python 3",
   "language": "python",
   "name": "python3"
  },
  "language_info": {
   "codemirror_mode": {
    "name": "ipython",
    "version": 3
   },
   "file_extension": ".py",
   "mimetype": "text/x-python",
   "name": "python",
   "nbconvert_exporter": "python",
   "pygments_lexer": "ipython3",
   "version": "3.11.0"
  },
  "orig_nbformat": 4,
  "vscode": {
   "interpreter": {
    "hash": "c261aea317cc0286b3b3261fbba9abdec21eaa57589985bb7a274bf54d6cc0a7"
   }
  }
 },
 "nbformat": 4,
 "nbformat_minor": 2
}
